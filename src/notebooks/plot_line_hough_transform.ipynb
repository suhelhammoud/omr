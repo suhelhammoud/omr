{
 "cells": [
  {
   "cell_type": "code",
   "execution_count": null,
   "metadata": {
    "collapsed": false
   },
   "outputs": [],
   "source": [
    "%matplotlib inline"
   ]
  },
  {
   "cell_type": "markdown",
   "metadata": {},
   "source": [
    "\n# Straight line Hough transform\n\n\nThe Hough transform in its simplest form is a method to detect straight lines\n[1]_.\n\nIn the following example, we construct an image with a line intersection. We\nthen use the `Hough transform  <https://en.wikipedia.org/wiki/Hough_transform>`__.\nto explore a parameter space for straight lines that may run through the image.\n\nAlgorithm overview\n------------------\n\nUsually, lines are parameterised as $y = mx + c$, with a gradient\n$m$ and y-intercept `c`. However, this would mean that $m$ goes to\ninfinity for vertical lines. Instead, we therefore construct a segment\nperpendicular to the line, leading to the origin. The line is represented by\nthe length of that segment, $r$, and the angle it makes with the x-axis,\n$\\theta$.\n\nThe Hough transform constructs a histogram array representing the parameter\nspace (i.e., an $M \\times N$ matrix, for $M$ different values of\nthe radius and $N$ different values of $\\theta$).  For each\nparameter combination, $r$ and $\\theta$, we then find the number of\nnon-zero pixels in the input image that would fall close to the corresponding\nline, and increment the array at position $(r, \\theta)$ appropriately.\n\nWe can think of each non-zero pixel \"voting\" for potential line candidates. The\nlocal maxima in the resulting histogram indicates the parameters of the most\nprobably lines. In our example, the maxima occur at 45 and 135 degrees,\ncorresponding to the normal vector angles of each line.\n\nAnother approach is the Progressive Probabilistic Hough Transform [2]_. It is\nbased on the assumption that using a random subset of voting points give a good\napproximation to the actual result, and that lines can be extracted during the\nvoting process by walking along connected components. This returns the\nbeginning and end of each line segment, which is useful.\n\nThe function `probabilistic_hough` has three parameters: a general threshold\nthat is applied to the Hough accumulator, a minimum line length and the line\ngap that influences line merging. In the example below, we find lines longer\nthan 10 with a gap less than 3 pixels.\n\nReferences\n----------\n\n.. [1] Duda, R. O. and P. E. Hart, \"Use of the Hough Transformation to\n       Detect Lines and Curves in Pictures,\" Comm. ACM, Vol. 15,\n       pp. 11-15 (January, 1972)\n\n.. [2] C. Galamhos, J. Matas and J. Kittler,\"Progressive probabilistic\n       Hough transform for line detection\", in IEEE Computer Society\n       Conference on Computer Vision and Pattern Recognition, 1999.\n\n\n"
   ]
  },
  {
   "cell_type": "code",
   "execution_count": null,
   "metadata": {
    "collapsed": false
   },
   "outputs": [],
   "source": [
    "import numpy as np\n",
    "\n",
    "from skimage.transform import (hough_line, hough_line_peaks,\n",
    "                               probabilistic_hough_line)\n",
    "from skimage.feature import canny\n",
    "from skimage import data\n",
    "\n",
    "import matplotlib.pyplot as plt\n",
    "from matplotlib import cm\n",
    "\n",
    "\n",
    "# Constructing test image\n",
    "image = np.zeros((100, 100))\n",
    "idx = np.arange(25, 75)\n",
    "image[idx[::-1], idx] = 255\n",
    "image[idx, idx] = 255\n",
    "\n",
    "# Classic straight-line Hough transform\n",
    "h, theta, d = hough_line(image)\n",
    "\n",
    "# Generating figure 1\n",
    "fig, axes = plt.subplots(1, 3, figsize=(15, 6))\n",
    "ax = axes.ravel()\n",
    "\n",
    "ax[0].imshow(image, cmap=cm.gray)\n",
    "ax[0].set_title('Input image')\n",
    "ax[0].set_axis_off()\n",
    "\n",
    "ax[1].imshow(np.log(1 + h),\n",
    "             extent=[np.rad2deg(theta[-1]), np.rad2deg(theta[0]), d[-1], d[0]],\n",
    "             cmap=cm.gray, aspect=1/1.5)\n",
    "ax[1].set_title('Hough transform')\n",
    "ax[1].set_xlabel('Angles (degrees)')\n",
    "ax[1].set_ylabel('Distance (pixels)')\n",
    "ax[1].axis('image')\n",
    "\n",
    "ax[2].imshow(image, cmap=cm.gray)\n",
    "for _, angle, dist in zip(*hough_line_peaks(h, theta, d)):\n",
    "    y0 = (dist - 0 * np.cos(angle)) / np.sin(angle)\n",
    "    y1 = (dist - image.shape[1] * np.cos(angle)) / np.sin(angle)\n",
    "    ax[2].plot((0, image.shape[1]), (y0, y1), '-r')\n",
    "ax[2].set_xlim((0, image.shape[1]))\n",
    "ax[2].set_ylim((image.shape[0], 0))\n",
    "ax[2].set_axis_off()\n",
    "ax[2].set_title('Detected lines')\n",
    "\n",
    "plt.tight_layout()\n",
    "plt.show()\n",
    "\n",
    "# Line finding using the Probabilistic Hough Transform\n",
    "image = data.camera()\n",
    "edges = canny(image, 2, 1, 25)\n",
    "lines = probabilistic_hough_line(edges, threshold=10, line_length=5,\n",
    "                                 line_gap=3)\n",
    "\n",
    "# Generating figure 2\n",
    "fig, axes = plt.subplots(1, 3, figsize=(15, 5), sharex=True, sharey=True)\n",
    "ax = axes.ravel()\n",
    "\n",
    "ax[0].imshow(image, cmap=cm.gray)\n",
    "ax[0].set_title('Input image')\n",
    "\n",
    "ax[1].imshow(edges, cmap=cm.gray)\n",
    "ax[1].set_title('Canny edges')\n",
    "\n",
    "ax[2].imshow(edges * 0)\n",
    "for line in lines:\n",
    "    p0, p1 = line\n",
    "    ax[2].plot((p0[0], p1[0]), (p0[1], p1[1]))\n",
    "ax[2].set_xlim((0, image.shape[1]))\n",
    "ax[2].set_ylim((image.shape[0], 0))\n",
    "ax[2].set_title('Probabilistic Hough')\n",
    "\n",
    "for a in ax:\n",
    "    a.set_axis_off()\n",
    "\n",
    "plt.tight_layout()\n",
    "plt.show()"
   ]
  }
 ],
 "metadata": {
  "kernelspec": {
   "display_name": "Python 3",
   "language": "python",
   "name": "python3"
  },
  "language_info": {
   "codemirror_mode": {
    "name": "ipython",
    "version": 3
   },
   "file_extension": ".py",
   "mimetype": "text/x-python",
   "name": "python",
   "nbconvert_exporter": "python",
   "pygments_lexer": "ipython3",
   "version": "3.6.3"
  }
 },
 "nbformat": 4,
 "nbformat_minor": 0
}
